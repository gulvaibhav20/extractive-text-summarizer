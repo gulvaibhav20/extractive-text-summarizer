{
 "cells": [
  {
   "cell_type": "markdown",
   "metadata": {},
   "source": [
    "## Importing Necessary Packages"
   ]
  },
  {
   "cell_type": "code",
   "execution_count": 1,
   "metadata": {},
   "outputs": [],
   "source": [
    "# For collecting data from URL\n",
    "import requests\n",
    "import bs4 \n",
    "\n",
    "# To collect text from a file\n",
    "from os.path import abspath\n",
    "\n",
    "# Basic libraries\n",
    "import numpy as np\n",
    "import pandas as pd \n",
    "import re\n",
    "from math import log\n",
    "\n",
    "# Summarization\n",
    "from nltk.tokenize import sent_tokenize\n",
    "from nltk.corpus import stopwords, wordnet\n",
    "from nltk.stem import WordNetLemmatizer\n",
    "from nltk import pos_tag\n",
    "\n",
    "import networkx as nx\n",
    "\n",
    "from gensim import corpora\n",
    "from gensim.models import Word2Vec\n",
    "from sklearn.metrics.pairwise import cosine_similarity\n",
    "from scipy import spatial\n",
    "from pylcs import lcs\n",
    "from sklearn.feature_extraction.text import TfidfVectorizer\n",
    "from gensim.summarization import bm25"
   ]
  },
  {
   "cell_type": "markdown",
   "metadata": {},
   "source": [
    "## User Input Functions"
   ]
  },
  {
   "cell_type": "code",
   "execution_count": 2,
   "metadata": {},
   "outputs": [],
   "source": [
    "def take_url():\n",
    "    url = input(\"Enter the url :\")\n",
    "    response = requests.get(url)\n",
    "    soup = bs4.BeautifulSoup(response.content, \"html.parser\")\n",
    "    data = soup.text\n",
    "    #print(data)\n",
    "    return data"
   ]
  },
  {
   "cell_type": "code",
   "execution_count": 3,
   "metadata": {},
   "outputs": [],
   "source": [
    "def file_input():\n",
    "    file_location = input(\"Enter the path of file :\")\n",
    "    with open(abspath(file_location), encoding=\"utf8\") as f:\n",
    "        data = \"\\n\".join(f.readlines())\n",
    "    return data"
   ]
  },
  {
   "cell_type": "code",
   "execution_count": 4,
   "metadata": {},
   "outputs": [],
   "source": [
    "def take_input():\n",
    "    print(\"Enter the method for text input :\")\n",
    "    print(\" 1. From URL \\n 2. From text file \\n 3. Direct input \\n Enter choice :\")\n",
    "    choice = int(input())\n",
    "    \n",
    "    if(choice == 1):\n",
    "        return take_url()\n",
    "    \n",
    "    elif(choice == 2):\n",
    "        return file_input()\n",
    "    \n",
    "    elif(choice == 3):\n",
    "        text = input(\"Enter the text : \")\n",
    "        return text\n",
    "    \n",
    "    else:\n",
    "        return -1"
   ]
  },
  {
   "cell_type": "markdown",
   "metadata": {},
   "source": [
    "## POS Tagging Function"
   ]
  },
  {
   "cell_type": "code",
   "execution_count": 5,
   "metadata": {},
   "outputs": [],
   "source": [
    "def get_wordnet_pos(word):\n",
    "    \n",
    "    # Map POS tag to first character lemmatize() accepts\n",
    "    tag = pos_tag([word])[0][1][0].upper()\n",
    "    tag_dict = {\"J\": wordnet.ADJ,\n",
    "                \"N\": wordnet.NOUN,\n",
    "                \"V\": wordnet.VERB,\n",
    "                \"R\": wordnet.ADV}\n",
    "\n",
    "    return tag_dict.get(tag, wordnet.NOUN)"
   ]
  },
  {
   "cell_type": "markdown",
   "metadata": {},
   "source": [
    "## Similarity Matrix Functions"
   ]
  },
  {
   "cell_type": "code",
   "execution_count": 6,
   "metadata": {},
   "outputs": [],
   "source": [
    "def similarity_original(text_data):\n",
    "    \n",
    "    sim = np.zeros([len(text_data), len(text_data)]) # Initialization\n",
    "    for i, sentence_1 in enumerate(text_data):\n",
    "        for j, sentence_2 in enumerate(text_data):\n",
    "            sent_1 = set(sentence_1) # Unique words\n",
    "            sent_2 = set(sentence_2)\n",
    "\n",
    "            if(i == j):\n",
    "                sim[i][j] = 0\n",
    "            else:\n",
    "                common = float(len(list(sent_1 & sent_2)))\n",
    "                if(len(sentence_1) and len(sentence_2) > 1):\n",
    "                    denominator = float(log(len(sentence_1)) + log(len(sentence_2)))\n",
    "                else:\n",
    "                    denominator = 1.0\n",
    "                \n",
    "                sim[i][j] = common / denominator\n",
    "    return sim"
   ]
  },
  {
   "cell_type": "code",
   "execution_count": 7,
   "metadata": {},
   "outputs": [],
   "source": [
    "def similarity_BM(text_data):\n",
    "    \n",
    "    dictionary = corpora.Dictionary(text_data) # BAG_OF_WORDS MODEL\n",
    "    corpus = [dictionary.doc2bow(text) for text in text_data]\n",
    "    bm25_obj = bm25.BM25(corpus) #object\n",
    "    \n",
    "    similarity = []\n",
    "\n",
    "    for i, sentence in enumerate(text_data):\n",
    "        query = dictionary.doc2bow(sentence)\n",
    "        score = bm25_obj.get_scores(query)\n",
    "        similarity.append(score)\n",
    "    \n",
    "    sim = np.array(similarity)    \n",
    "    return sim"
   ]
  },
  {
   "cell_type": "markdown",
   "metadata": {},
   "source": [
    "## Main Summarization Function"
   ]
  },
  {
   "cell_type": "code",
   "execution_count": 8,
   "metadata": {},
   "outputs": [],
   "source": [
    "def summarize(string, ratio = 0.2): \n",
    "    \n",
    "    # Tokenization\n",
    "    sentences = sent_tokenize(string) \n",
    "    sentences_clean = [re.sub(r'[^\\w\\s]','',sentence.lower()) for sentence in sentences]\n",
    "\n",
    "    # Stop words removal\n",
    "    stop_words = stopwords.words('english')\n",
    "    sentence_tokens = [[words for words in sentence.split(' ') if words not in stop_words] for sentence in sentences_clean]\n",
    "\n",
    "    # POS Tagging and Lemmatization\n",
    "    text_data = []\n",
    "    lemmatizer = WordNetLemmatizer() #object\n",
    "    count = 0\n",
    "    \n",
    "    for sentence in sentence_tokens:\n",
    "        sample_list = [word for word in sentence if word]\n",
    "        tags = pos_tag(sample_list)\n",
    "        line = []\n",
    "        for word, tag in tags: \n",
    "            count += 1\n",
    "            line.append(lemmatizer.lemmatize(word, pos = get_wordnet_pos(tag)))\n",
    "        text_data.append(line) \n",
    "\n",
    "    # Similarity Matrix\n",
    "    sim_a = similarity_original(text_data)\n",
    "    sim_d = similarity_BM(text_data)\n",
    "\n",
    "    # Normalization\n",
    "    sim_a = sim_a / sim_a.max()    \n",
    "    sim_d = sim_d / sim_d.max()    \n",
    "    \n",
    "    # Combination\n",
    "    similarity_matrix = (sim_a + sim_d)\n",
    "    \n",
    "    # Page Rank\n",
    "    nx_graph = nx.from_numpy_array(similarity_matrix)\n",
    "    scores = nx.pagerank(nx_graph, max_iter = 600)\n",
    "\n",
    "    # Best sentences\n",
    "    top_sentence = {sentence:scores[index] for index,sentence in enumerate(sentences)}\n",
    "    number = int(len(sentence_tokens)*(ratio))\n",
    "    top = dict(sorted(top_sentence.items(), key=lambda x: x[1], reverse=True)[:number])\n",
    "    text_list = []\n",
    "\n",
    "    for sent in sentences:\n",
    "        if sent in top.keys():\n",
    "            text_list.append(sent)\n",
    "\n",
    "    summary = \"\\n\".join(text_list)\n",
    "    return summary"
   ]
  },
  {
   "cell_type": "markdown",
   "metadata": {},
   "source": [
    "## Main"
   ]
  },
  {
   "cell_type": "code",
   "execution_count": 9,
   "metadata": {},
   "outputs": [],
   "source": [
    "def main():\n",
    "    text = take_input()\n",
    "    if (text == -1):\n",
    "        print(\"Wrong Input\")\n",
    "    else:\n",
    "        summary = summarize(text)\n",
    "        print(\"\\nSummary :\\n\", summary)"
   ]
  },
  {
   "cell_type": "code",
   "execution_count": 10,
   "metadata": {
    "scrolled": false
   },
   "outputs": [
    {
     "name": "stdout",
     "output_type": "stream",
     "text": [
      "Enter the method for text input :\n",
      " 1. From URL \n",
      " 2. From text file \n",
      " 3. Direct input \n",
      " Enter choice :\n",
      "1\n",
      "Enter the url :https://www.indeed.com/career-advice/careers/what-does-a-software-engineer-do\n",
      "\n",
      "Summary :\n",
      " A software engineer’s responsibilities may also include:Working with users to determine their software needsDesigning, developing and testing a system or application according to the users’ specificationsDrawing diagrams and models that help developers create the appropriate code for the system or applicationDocumenting the system or application in detail to help those responsible for future maintenanceMaintaining the system or application with updates and fixes as necessaryRecommending software upgrades for existing systems or applicationsCollaborating with developers and other engineers to create softwareAverage salaryAs a software engineer, your salary will vary depending on whether you develop applications or systems.\n",
      "Software engineers are typically either full-time or contract employees, though some may hold part-time jobs.Common software engineer salary in the U.S.: $105,323 per yearSome salaries range from $29,000 to $228,000 per year.Software engineer requirementsSoftware engineers typically need a combination of education, training, certifications and skills to earn a position.\n",
      "The combination depends on the desired role and industry.EducationMost hiring managers expect software engineers to have a Bachelor’s Degree in Computer Science, Software Engineering, Computer Programming, Software Development, Mathematics or a similar field.\n",
      "A doctorate may be necessary if you want to work in research.TrainingEntry-level software engineers can receive training during internships.\n",
      "Boot camps can last from one to six months and can focus on a variety of coding languages, frameworks, design and databases.Most software engineers receive on-the-job training with their business.\n",
      "Since they learn most of their technical knowledge during school, training with a company could include learning any software specific to the business, software development life cycles and the project management method used, such as agile or scrum.There are many off-the-job training opportunities available for software engineers.\n",
      "As the technology industry is constantly advancing, it is important for software engineers to maintain current knowledge in their fields.CertificationsSoftware engineers have a wide variety of certifications available to them, including:Oracle Certified Associate and Oracle Certified Professional (OCA and OCP).\n",
      "The CSSLP certification is valid for three years.SkillsA good software engineer has a combination of technical and personal skills, such as:Programming.\n",
      "As a software engineer, you need to be able to work with other engineers and developers and non-technical colleagues who use your systems and software.\n",
      "As they can perform most of their duties on a computer, some engineers work most of their days remotely.How to become a software engineerIf you are interested in becoming a software engineer, here are steps you can take to achieve that goal:Earn a bachelor’s degree.\n",
      "Earning a master’s degree will also allow you to gain more knowledge in software engineering.Obtain relevant certifications.\n",
      "There are a number of professional certifications available to software engineers and software developers.\n"
     ]
    }
   ],
   "source": [
    "main()"
   ]
  },
  {
   "cell_type": "code",
   "execution_count": null,
   "metadata": {},
   "outputs": [],
   "source": []
  }
 ],
 "metadata": {
  "kernelspec": {
   "display_name": "Python 3",
   "language": "python",
   "name": "python3"
  },
  "language_info": {
   "codemirror_mode": {
    "name": "ipython",
    "version": 3
   },
   "file_extension": ".py",
   "mimetype": "text/x-python",
   "name": "python",
   "nbconvert_exporter": "python",
   "pygments_lexer": "ipython3",
   "version": "3.8.3"
  }
 },
 "nbformat": 4,
 "nbformat_minor": 4
}
