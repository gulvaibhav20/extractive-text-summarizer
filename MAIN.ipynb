{
 "cells": [
  {
   "attachments": {},
   "cell_type": "markdown",
   "metadata": {},
   "source": [
    "## Importing Necessary Packages"
   ]
  },
  {
   "cell_type": "code",
   "execution_count": 1,
   "metadata": {},
   "outputs": [],
   "source": [
    "# For collecting data from URL\n",
    "import requests, bs4 \n",
    "\n",
    "# To collect text from a file\n",
    "from os.path import abspath\n",
    "\n",
    "# Basic libraries\n",
    "import numpy as np, pandas as pd, re\n",
    "from math import log\n",
    "\n",
    "# Summarization\n",
    "from nltk.tokenize import sent_tokenize\n",
    "from nltk.corpus import stopwords, wordnet\n",
    "from nltk.stem import WordNetLemmatizer\n",
    "from nltk import pos_tag\n",
    "\n",
    "import networkx as nx\n",
    "\n",
    "from gensim import corpora\n",
    "from gensim.models import Word2Vec\n",
    "from sklearn.metrics.pairwise import cosine_similarity\n",
    "from scipy import spatial\n",
    "from pylcs import lcs\n",
    "from sklearn.feature_extraction.text import TfidfVectorizer\n",
    "# from gensim.summarization import bm25\n",
    "from rank_bm25 import BM25Plus"
   ]
  },
  {
   "cell_type": "code",
   "execution_count": 2,
   "metadata": {},
   "outputs": [
    {
     "name": "stderr",
     "output_type": "stream",
     "text": [
      "[nltk_data] Downloading package punkt to\n",
      "[nltk_data]     C:\\Users\\gulva\\AppData\\Roaming\\nltk_data...\n",
      "[nltk_data]   Package punkt is already up-to-date!\n",
      "[nltk_data] Downloading package stopwords to\n",
      "[nltk_data]     C:\\Users\\gulva\\AppData\\Roaming\\nltk_data...\n",
      "[nltk_data]   Package stopwords is already up-to-date!\n",
      "[nltk_data] Downloading package averaged_perceptron_tagger to\n",
      "[nltk_data]     C:\\Users\\gulva\\AppData\\Roaming\\nltk_data...\n",
      "[nltk_data]   Package averaged_perceptron_tagger is already up-to-\n",
      "[nltk_data]       date!\n",
      "[nltk_data] Downloading package wordnet to\n",
      "[nltk_data]     C:\\Users\\gulva\\AppData\\Roaming\\nltk_data...\n",
      "[nltk_data]   Package wordnet is already up-to-date!\n"
     ]
    },
    {
     "data": {
      "text/plain": [
       "True"
      ]
     },
     "execution_count": 2,
     "metadata": {},
     "output_type": "execute_result"
    }
   ],
   "source": [
    "# Downloading the essential NLTK modules\n",
    "import nltk\n",
    "nltk.download('punkt')\n",
    "nltk.download('stopwords')\n",
    "nltk.download('averaged_perceptron_tagger')\n",
    "nltk.download('wordnet')"
   ]
  },
  {
   "attachments": {},
   "cell_type": "markdown",
   "metadata": {},
   "source": [
    "## User Input Functions"
   ]
  },
  {
   "cell_type": "code",
   "execution_count": 3,
   "metadata": {},
   "outputs": [],
   "source": [
    "def take_url():\n",
    "    url = input(\"Enter the url :\")\n",
    "    response = requests.get(url)\n",
    "    soup = bs4.BeautifulSoup(response.content, \"html.parser\")\n",
    "    data = soup.text\n",
    "    #print(data)\n",
    "    return data"
   ]
  },
  {
   "cell_type": "code",
   "execution_count": 4,
   "metadata": {},
   "outputs": [],
   "source": [
    "def file_input():\n",
    "    file_location = input(\"Enter the path of file :\")\n",
    "    print(f\"\\nReading the file: {file_location}\")\n",
    "    with open(abspath(file_location), encoding=\"utf8\") as f:\n",
    "        data = \"\\n\".join(f.readlines())\n",
    "    return data"
   ]
  },
  {
   "cell_type": "code",
   "execution_count": 5,
   "metadata": {},
   "outputs": [],
   "source": [
    "def take_input():\n",
    "    print(\"Enter the method for text input :\")\n",
    "    print(\" 1. From URL \\n 2. From text file \\n 3. Direct input \\n Enter choice :\")\n",
    "\n",
    "    try:\n",
    "        choice = int(input())\n",
    "    except:\n",
    "        return -1\n",
    "\n",
    "    if(choice == 1):\n",
    "        return take_url()\n",
    "    \n",
    "    elif(choice == 2):\n",
    "        return file_input()\n",
    "    \n",
    "    elif(choice == 3):\n",
    "        text = input(\"Enter the text : \")\n",
    "        return text\n",
    "    \n",
    "    else:\n",
    "        return -1"
   ]
  },
  {
   "attachments": {},
   "cell_type": "markdown",
   "metadata": {},
   "source": [
    "## POS Tagging Function"
   ]
  },
  {
   "cell_type": "code",
   "execution_count": 6,
   "metadata": {},
   "outputs": [],
   "source": [
    "def get_wordnet_pos(word):\n",
    "    \n",
    "    # Map POS tag to first character lemmatize() accepts\n",
    "    tag = pos_tag([word])[0][1][0].upper()\n",
    "    tag_dict = {\"J\": wordnet.ADJ,\n",
    "                \"N\": wordnet.NOUN,\n",
    "                \"V\": wordnet.VERB,\n",
    "                \"R\": wordnet.ADV}\n",
    "\n",
    "    return tag_dict.get(tag, wordnet.NOUN)"
   ]
  },
  {
   "attachments": {},
   "cell_type": "markdown",
   "metadata": {},
   "source": [
    "## Similarity Matrix Functions"
   ]
  },
  {
   "cell_type": "code",
   "execution_count": 7,
   "metadata": {},
   "outputs": [],
   "source": [
    "def similarity_original(text_data):\n",
    "    \n",
    "    sim = np.zeros([len(text_data), len(text_data)]) # Initialization\n",
    "    for i, sentence_1 in enumerate(text_data):\n",
    "        for j, sentence_2 in enumerate(text_data):\n",
    "            sent_1 = set(sentence_1) # Unique words\n",
    "            sent_2 = set(sentence_2)\n",
    "\n",
    "            if(i == j):\n",
    "                sim[i][j] = 0\n",
    "            else:\n",
    "                common = float(len(list(sent_1 & sent_2)))\n",
    "                if(len(sentence_1) and len(sentence_2) > 1):\n",
    "                    denominator = float(log(len(sentence_1)) + log(len(sentence_2)))\n",
    "                else:\n",
    "                    denominator = 1.0\n",
    "                \n",
    "                sim[i][j] = common / denominator\n",
    "    return sim"
   ]
  },
  {
   "cell_type": "code",
   "execution_count": 8,
   "metadata": {},
   "outputs": [],
   "source": [
    "def similarity_bm(text_data):\n",
    "    \n",
    "    dictionary = corpora.Dictionary(text_data) # BAG_OF_WORDS MODEL\n",
    "    corpus = [dictionary.doc2bow(text) for text in text_data]\n",
    "    # bm25_obj = bm25.BM25(corpus) #object\n",
    "    bm25_obj = BM25Plus(corpus)\n",
    "\n",
    "    similarity = []\n",
    "\n",
    "    for i, sentence in enumerate(text_data):\n",
    "        query = dictionary.doc2bow(sentence)\n",
    "        score = bm25_obj.get_scores(query)\n",
    "        similarity.append(score)\n",
    "    \n",
    "    sim = np.array(similarity)    \n",
    "    return sim"
   ]
  },
  {
   "attachments": {},
   "cell_type": "markdown",
   "metadata": {},
   "source": [
    "## Main Summarization Function"
   ]
  },
  {
   "cell_type": "code",
   "execution_count": 9,
   "metadata": {},
   "outputs": [],
   "source": [
    "def summarize(string, ratio = 0.2): \n",
    "    \n",
    "    # Tokenization\n",
    "    sentences = sent_tokenize(string) \n",
    "    sentences_clean = [re.sub(r'[^\\w\\s]','',sentence.lower()) for sentence in sentences]\n",
    "\n",
    "    # Stop words removal\n",
    "    stop_words = stopwords.words('english')\n",
    "    sentence_tokens = [[words for words in sentence.split(' ') if words not in stop_words] for sentence in sentences_clean]\n",
    "\n",
    "    # POS Tagging and Lemmatization\n",
    "    text_data = []\n",
    "    lemmatizer = WordNetLemmatizer() #object\n",
    "    count = 0\n",
    "    \n",
    "    for sentence in sentence_tokens:\n",
    "        sample_list = [word for word in sentence if word]\n",
    "        tags = pos_tag(sample_list)\n",
    "        line = []\n",
    "        for word, tag in tags: \n",
    "            count += 1\n",
    "            line.append(lemmatizer.lemmatize(word, pos = get_wordnet_pos(tag)))\n",
    "        text_data.append(line) \n",
    "\n",
    "    # Similarity Matrix\n",
    "    sim_a = similarity_original(text_data)\n",
    "    sim_d = similarity_bm(text_data)\n",
    "\n",
    "    # Normalization\n",
    "    sim_a = sim_a / sim_a.max()    \n",
    "    sim_d = sim_d / sim_d.max()    \n",
    "    \n",
    "    # Combination\n",
    "    similarity_matrix = (sim_a + sim_d)\n",
    "    \n",
    "    # Page Rank\n",
    "    nx_graph = nx.from_numpy_array(similarity_matrix)\n",
    "    scores = nx.pagerank(nx_graph, max_iter = 600)\n",
    "\n",
    "    # Best sentences\n",
    "    top_sentence = {sentence:scores[index] for index,sentence in enumerate(sentences)}\n",
    "    number = int(len(sentence_tokens)*(ratio))\n",
    "    top = dict(sorted(top_sentence.items(), key=lambda x: x[1], reverse=True)[:number])\n",
    "    text_list = []\n",
    "\n",
    "    for sent in sentences:\n",
    "        if sent in top.keys():\n",
    "            text_list.append(sent)\n",
    "\n",
    "    summary = \"\\n\".join(text_list)\n",
    "    return summary"
   ]
  },
  {
   "attachments": {},
   "cell_type": "markdown",
   "metadata": {},
   "source": [
    "## Main"
   ]
  },
  {
   "cell_type": "code",
   "execution_count": 10,
   "metadata": {},
   "outputs": [],
   "source": [
    "def main():\n",
    "    text = take_input()\n",
    "    if (text == -1):\n",
    "        print(\"Wrong Input\")\n",
    "    else:\n",
    "        summary = summarize(text)\n",
    "        print(\"\\nSummary :\\n\", summary)"
   ]
  },
  {
   "cell_type": "code",
   "execution_count": 11,
   "metadata": {},
   "outputs": [
    {
     "name": "stdout",
     "output_type": "stream",
     "text": [
      "Enter the method for text input :\n",
      " 1. From URL \n",
      " 2. From text file \n",
      " 3. Direct input \n",
      " Enter choice :\n",
      "\n",
      "Reading the file: trial_run/french_revolution.txt\n",
      "\n",
      "Summary :\n",
      " Faced with the heavy expenditure that the wars of the 18th century entailed, the rulers of Europe sought to raise money by taxing the nobles and clergy, who in most countries had hitherto been exempt, To justify this, the rulers likewise invoked the arguments of advanced thinkers by adopting the role of “enlightened despots.” This provoked reaction throughout Europe from the privileged bodies, diets.\n",
      "Although scholarly debate continues about the exact causes of the Revolution, the following reasons are commonly adduced: (1) the bourgeoisie resented its exclusion from political power and positions of honour; (2) the peasants were acutely aware of their situation and were less and less willing to support the anachronistic and burdensome feudal system; (3) the philosophes had been read more widely in France than anywhere else; (4) French participation in the American Revolution had driven the government to the brink of bankruptcy; (5) France was the most populous country in Europe, and crop failures in much of the country in 1788, coming on top of a long period of economic difficulties, compounded existing restlessness; and (6) the French monarchy, no longer seen as divinely ordained, was unable to adapt to the political and societal pressures that were being exerted on it.\n",
      "The Revolution took shape in France when the controller general of finances, Charles-Alexandre de Calonne, arranged the summoning of an assembly of “notables” (prelates, great noblemen, and a few representatives of the bourgeoisie) in February 1787 to propose reforms designed to eliminate the budget deficit by increasing the taxation of the privileged classes.\n",
      "On June 17 the bitter struggle over this legal issue finally drove the deputies of the Third Estate to declare themselves the National Assembly; they threatened to proceed, if necessary, without the other two orders.\n",
      "When royal officials locked the deputies out of their regular meeting hall on June 20, they occupied the king’s indoor tennis court (Jeu de Paume) and swore an oath not to disperse until they had given France a new constitution.\n",
      "The king grudgingly gave in and urged the nobles and the remaining clergy to join the assembly, which took the official title of National Constituent Assembly on July 9; at the same time, however, he began gathering troops to dissolve it.\n",
      "The National Constituent Assembly could see only one way to check the peasants; on the night of August 4, 1789, it decreed the abolition of the feudal regime and of the tithe.\n",
      "Public ceremonies such as the planting of “trees of liberty” in small villages and the Festival of Federation, held in Paris in 1790 on the first anniversary of the storming of the Bastille, were symbolic affirmations of the new order.\n",
      "The National Constituent Assembly completed the abolition of feudalism, suppressed the old “orders,” established civil equality among men (at least in metropolitan France, since slavery was retained in the colonies), and made more than half the adult male population eligible to vote, although only a small minority met the requirement for becoming a deputy.\n",
      "The complicated administrative system of the ancien régime was swept away by the National Constituent Assembly, which substituted a rational system based on the division of France into départements, districts, cantons, and communes administered by elected assemblies.\n",
      "The rulers were at first indifferent to the Revolution but began to worry when the National Constituent Assembly proclaimed a revolutionary principle of international law—namely, that a people had the right of self-determination.\n",
      "By early 1792 both radicals, eager to spread the principles of the Revolution, and the king, hopeful that war would either strengthen his authority or allow foreign armies to rescue him, supported an aggressive policy.\n",
      "In the first phase of the war (April–September 1792), France suffered defeats; Prussia joined the war in July, and an Austro-Prussian army crossed the frontier and advanced rapidly toward Paris.\n",
      "Believing that they had been betrayed by the monarchy—indeed, France’s Austrian-born queen, Marie-Antoinette, had privately encouraged her brother, Holy Roman Emperor Leopold II, to invade France as a counterrevolutionary measure—the Paris revolutionaries rose on August 10, 1792.\n",
      "Meanwhile, the National Convention was divided between the Girondins, who wanted to organize a bourgeois republic in France and to spread the Revolution over the whole of Europe, and the Montagnards (“Mountain Men”), who, with Maximilien Robespierre, wanted to give the lower classes a greater share in political and economic power.\n",
      "Despite efforts made by the Girondins, Louis XVI was judged by the Convention, condemned to death for treason, and executed on January 21, 1793; Marie-Antoinette was guillotined nine months later.\n",
      "The Girondin leaders were driven from the National Convention, and the Montagnards, who had the support of the Paris sansculottes (workers, craftsmen, and shopkeepers), seized power and kept it until 9 Thermidor, year II, of the new French republican calendar (July 27, 1794).\n",
      "They introduced the Maximum (government control of prices), taxed the rich, brought national assistance to the poor and to the disabled, declared that education should be free and compulsory, and ordered the confiscation and sale of the property of émigrés.\n",
      "Opposition, however, was broken by the Reign of Terror (19 Fructidor, year I–9 Thermidor, year II [September 5, 1793–July 27, 1794]), which entailed the arrest of at least 300,000 suspects, 17,000 of whom were sentenced to death and executed while more died in prisons or were killed without any form of trial.\n",
      "Robespierre, “the Incorruptible,” who had sponsored the restrictions, was overthrown in the National Convention on 9 Thermidor, year II (July 27, 1794), and executed the following day.\n",
      "Royalists even tried to seize power in Paris but were crushed by the young Gen. Napoleon Bonaparte on 13 Vendémiaire, year IV (October 5, 1795).\n",
      "The constitution of the year III, which the National Convention had approved, placed executive power in a Directory of five members and legislative power in two chambers, the Council of Ancients and the Council of the Five Hundred (together called the Corps Législatif).\n",
      "These disputes were settled by coups d’état, chiefly those of 18 Fructidor, year V (September 4, 1797), which removed the royalists from the Directory and from the councils, and of 18 Brumaire, year VIII (November 9, 1799), in which Bonaparte abolished the Directory and became the leader of France as its “first consul.”\n",
      "\n",
      "\n",
      "\n",
      "After the victory of Fleurus, the progress of the French armies in Europe had continued.\n",
      "An expeditionary corps under Bonaparte easily occupied Malta and Egypt, but the squadron that had convoyed it was destroyed by Horatio Nelson’s fleet at the Battle of the Nile on 14 Thermidor, year VI (August 1, 1798).\n"
     ]
    }
   ],
   "source": [
    "if __name__ == \"__main__\":\n",
    "    main()"
   ]
  },
  {
   "cell_type": "code",
   "execution_count": null,
   "metadata": {},
   "outputs": [],
   "source": []
  }
 ],
 "metadata": {
  "kernelspec": {
   "display_name": "Python 3",
   "language": "python",
   "name": "python3"
  },
  "language_info": {
   "codemirror_mode": {
    "name": "ipython",
    "version": 3
   },
   "file_extension": ".py",
   "mimetype": "text/x-python",
   "name": "python",
   "nbconvert_exporter": "python",
   "pygments_lexer": "ipython3",
   "version": "3.11.3"
  }
 },
 "nbformat": 4,
 "nbformat_minor": 4
}
